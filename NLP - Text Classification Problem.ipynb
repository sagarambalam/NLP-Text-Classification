{
 "cells": [
  {
   "cell_type": "markdown",
   "id": "1c6ec98a",
   "metadata": {},
   "source": [
    "### Imports"
   ]
  },
  {
   "cell_type": "code",
   "execution_count": 145,
   "id": "6fc8ad10",
   "metadata": {},
   "outputs": [],
   "source": [
    "import numpy as np\n",
    "import pandas as pd\n",
    "\n",
    "from nltk.tokenize import TreebankWordTokenizer\n",
    "from nltk.stem.lancaster import LancasterStemmer\n",
    "from nltk.stem.porter import PorterStemmer\n",
    "from nltk.corpus import stopwords\n",
    "\n",
    "import matplotlib.pyplot as plt\n",
    "%matplotlib inline\n",
    "from wordcloud import WordCloud\n",
    "\n",
    "from sklearn.model_selection import train_test_split, GridSearchCV\n",
    "from sklearn.pipeline import Pipeline\n",
    "\n",
    "from sklearn.feature_extraction.text import CountVectorizer, TfidfVectorizer\n",
    "\n",
    "from sklearn.ensemble import RandomForestClassifier\n",
    "from sklearn.naive_bayes import MultinomialNB\n",
    "\n",
    "from sklearn.metrics import accuracy_score, classification_report, confusion_matrix\n",
    "from sklearn.model_selection import cross_val_score\n",
    "\n",
    "import wordninja"
   ]
  },
  {
   "cell_type": "code",
   "execution_count": 3,
   "id": "58508db3",
   "metadata": {},
   "outputs": [],
   "source": [
    "def fetch_training_data():\n",
    "    return pd.read_csv('train_set.csv', encoding='latin-1')\n",
    "\n",
    "def fetch_test_data():\n",
    "    return pd.read_csv('test_set.csv', encoding='latin-1')"
   ]
  },
  {
   "cell_type": "code",
   "execution_count": 4,
   "id": "0f2dd784",
   "metadata": {},
   "outputs": [],
   "source": [
    "#Separates feature and target variables.\n",
    "def feature_target_separator(df):\n",
    "    feature = df.iloc[:,1]\n",
    "    target = df.iloc[:,0]\n",
    "    return feature, target"
   ]
  },
  {
   "cell_type": "code",
   "execution_count": 74,
   "id": "fa5bdb0b",
   "metadata": {},
   "outputs": [],
   "source": [
    "def split_joint_text(tokens):\n",
    "    lm = wordninja.LanguageModel('text.txt.gz')\n",
    "    \n",
    "    for each_token in tokens:\n",
    "        temp_list = lm.split(each_token)\n",
    "        temp_list = list(filter(lambda x: len(x)>1,temp_list))\n",
    "        if len(temp_list)> 1:\n",
    "            #print(temp_list)\n",
    "            tokens.remove(each_token)\n",
    "            tokens.extend(temp_list)\n",
    "    \n",
    "    return tokens"
   ]
  },
  {
   "cell_type": "code",
   "execution_count": 97,
   "id": "36866475",
   "metadata": {},
   "outputs": [],
   "source": [
    "def preprocess(input_sentence, stem=False, to_split_text=False):\n",
    "    tokenizer_obj= TreebankWordTokenizer()\n",
    "    stemmer_obj = PorterStemmer()\n",
    "    \n",
    "    ## Removing punctuations and special characters\n",
    "    input_sentence = input_sentence.lower()\n",
    "    clean_text = re.sub(r\"[^a-z0-9]\", ' ', input_sentence)\n",
    "    \n",
    "    ## Tokenizing text\n",
    "    tokens = tokenizer_obj.tokenize(clean_text)\n",
    "    if stem:\n",
    "        tokens = [stemmer_obj.stem(x) for x in tokens]\n",
    "    \n",
    "    ## Splitting joint words (For eg. partsfor, forcaptive)\n",
    "    if to_split_text:\n",
    "        tokens = split_joint_text(tokens)\n",
    "    \n",
    "    ## Removing all tokens of length less than 3\n",
    "    stop_words = stopwords.words(\"english\")\n",
    "    clean_tokens = [word for word in tokens if word not in stop_words]\n",
    "    filtered_tokens = list(filter(lambda x: len(x)>2, clean_tokens))\n",
    "    processed_sentence = ' '.join(filtered_tokens)\n",
    "    \n",
    "    return processed_sentence"
   ]
  },
  {
   "cell_type": "code",
   "execution_count": 43,
   "id": "cb736457",
   "metadata": {},
   "outputs": [],
   "source": [
    "def build_model(data, target, estimator):\n",
    "    model = estimator\n",
    "    \n",
    "    pipeline = Pipeline([('tf-idf',TfidfVectorizer(ngram_range=(1,2), min_df=2, max_df=0.5, norm='l1')),\n",
    "                         ('clf',estimator),])\n",
    "    \n",
    "    pipeline.fit(data, target)\n",
    "    \n",
    "    return pipeline"
   ]
  },
  {
   "cell_type": "code",
   "execution_count": 110,
   "id": "83ed58ba",
   "metadata": {},
   "outputs": [],
   "source": [
    "def evaluate_model(model, x_test, y_test):\n",
    "    y_pred = model.predict(x_test)\n",
    "    print('Subset accuracy is {}'.format(accuracy_score(y_test, y_pred)))\n",
    "    \n",
    "    cv_score = cross_val_score(model, x_test, y_test, cv=5)\n",
    "    print(\"Cross validation scores {}\".format(cv_score))\n",
    "    print(\"Mean Cross validation score {}\".format(cv_score.mean()))\n",
    "    print(classification_report(y_test, y_pred))"
   ]
  },
  {
   "cell_type": "code",
   "execution_count": 70,
   "id": "872f4b17",
   "metadata": {},
   "outputs": [],
   "source": [
    "train_data = fetch_training_data()\n",
    "train_features, train_target = feature_target_separator(train_data)"
   ]
  },
  {
   "cell_type": "markdown",
   "id": "b7c54d2f",
   "metadata": {},
   "source": [
    "## EDA"
   ]
  },
  {
   "cell_type": "code",
   "execution_count": 125,
   "id": "53f705d0",
   "metadata": {},
   "outputs": [],
   "source": [
    "def get_tokens(input_ls):\n",
    "    tokenizer_obj= TreebankWordTokenizer()\n",
    "    input_ls = [x.lower() for x in input_ls]\n",
    "    tokens = [tokenizer_obj.tokenize(x) for x in input_ls]\n",
    "    \n",
    "    return tokens"
   ]
  },
  {
   "cell_type": "code",
   "execution_count": 131,
   "id": "4608d9b5",
   "metadata": {},
   "outputs": [],
   "source": [
    "list_of_tokens = get_tokens(train_features)"
   ]
  },
  {
   "cell_type": "code",
   "execution_count": 135,
   "id": "5481f4ef",
   "metadata": {},
   "outputs": [
    {
     "data": {
      "text/plain": [
       "g    2254\n",
       "a    1505\n",
       "b    1033\n",
       "p     923\n",
       "r     642\n",
       "x     640\n",
       "m     471\n",
       "v     459\n",
       "l     276\n",
       "s     253\n",
       "c     253\n",
       "w     221\n",
       "t     192\n",
       "d     189\n",
       "k     186\n",
       "f     179\n",
       "h     153\n",
       "n     149\n",
       "e     131\n",
       "q     115\n",
       "i      84\n",
       "y      55\n",
       "u      43\n",
       "z      32\n",
       "o      18\n",
       "j      16\n",
       "Name: 0, dtype: int64"
      ]
     },
     "execution_count": 135,
     "metadata": {},
     "output_type": "execute_result"
    }
   ],
   "source": [
    "'''\n",
    "This is to check how many of single character tokens are there in the training set.\n",
    "Single characters make the document ambiguous and might reduce the predictability.\n",
    "Hence if there are large number of single characters, it is to be removed.\n",
    "'''\n",
    "main_token_list = []\n",
    "for doc in list_of_tokens:\n",
    "    doc_list = []\n",
    "    for token in doc:\n",
    "        if len(token) == 1:\n",
    "            doc_list.append(token)\n",
    "    main_token_list.append(doc_list)\n",
    "\n",
    "main_token_list = [i for i in main_token_list if len(i)>0]\n",
    "single_char_token = pd.DataFrame(main_token_list)\n",
    "single_char_token[0].value_counts()"
   ]
  },
  {
   "cell_type": "code",
   "execution_count": 143,
   "id": "2f136fb2",
   "metadata": {},
   "outputs": [
    {
     "name": "stdout",
     "output_type": "stream",
     "text": [
      "Total unique 2 letter words are 486\n"
     ]
    },
    {
     "data": {
      "text/plain": [
       "no    2177\n",
       "of     837\n",
       "sl     818\n",
       "to     511\n",
       "mm     441\n",
       "ac     402\n",
       "hp     363\n",
       "kw     306\n",
       "sr     288\n",
       "st     280\n",
       "Name: 0, dtype: int64"
      ]
     },
     "execution_count": 143,
     "metadata": {},
     "output_type": "execute_result"
    }
   ],
   "source": [
    "'''\n",
    "As we can see that there are a lot of single characters and have to me removed. Similarly we also check if there are\n",
    "2 letter words in the data set. if these words do not have linguistic significance, they should be removed.\n",
    "'''\n",
    "main_token_list = []\n",
    "for doc in list_of_tokens:\n",
    "    doc_list = []\n",
    "    for token in doc:\n",
    "        if len(token) == 2:\n",
    "            doc_list.append(token)\n",
    "    main_token_list.append(doc_list)\n",
    "\n",
    "main_token_list = [i for i in main_token_list if len(i)>0]\n",
    "double_char_token = pd.DataFrame(main_token_list)\n",
    "print(\"Total unique 2 letter words are {}\".format(len(double_char_token[0].unique())))\n",
    "double_char_token[0].value_counts().head(10)"
   ]
  },
  {
   "cell_type": "markdown",
   "id": "01be3e21",
   "metadata": {},
   "source": [
    "## Building Model"
   ]
  },
  {
   "cell_type": "markdown",
   "id": "1683c1e1",
   "metadata": {},
   "source": [
    "- Stemming = False, Split Text = False"
   ]
  },
  {
   "cell_type": "code",
   "execution_count": 115,
   "id": "a0f2cde2",
   "metadata": {},
   "outputs": [
    {
     "name": "stdout",
     "output_type": "stream",
     "text": [
      "Subset accuracy is 0.8665311653116531\n",
      "Cross validation scores [0.80609653 0.76037257 0.76883997 0.78662151 0.79915254]\n",
      "Mean Cross validation score 0.7842166219377431\n",
      "              precision    recall  f1-score   support\n",
      "\n",
      "    33041000       1.00      1.00      1.00       426\n",
      "    39269099       0.90      0.67      0.77       557\n",
      "    73181500       0.90      0.86      0.88       471\n",
      "    84713010       1.00      0.93      0.96       352\n",
      "    85177090       0.88      0.96      0.92       633\n",
      "    85238090       0.99      0.97      0.98       427\n",
      "    85364900       0.91      0.95      0.93       413\n",
      "    85366990       0.91      0.70      0.79       485\n",
      "    85369090       0.82      0.84      0.83       619\n",
      "    85389000       0.68      0.95      0.79       753\n",
      "    87082900       0.94      0.80      0.86       362\n",
      "    87089900       0.82      0.75      0.78       406\n",
      "\n",
      "    accuracy                           0.87      5904\n",
      "   macro avg       0.89      0.87      0.87      5904\n",
      "weighted avg       0.88      0.87      0.87      5904\n",
      "\n"
     ]
    }
   ],
   "source": [
    "'''\n",
    "Preprocessing the training data\n",
    "- Tokenizing, Not Stemming and Keeping the joint words as it is\n",
    "- This is part of cleaning the data\n",
    "\n",
    "Using the cleaned text for modelling.\n",
    "- creating vectors using tf-idf with ngrams 1 and 2 words\n",
    "- Using Naive Bayes model for prediction.\n",
    "'''\n",
    "\n",
    "X_train, X_test, y_train, y_test = train_test_split(train_features, train_target, random_state=10)\n",
    "X_train = X_train.apply(preprocess, stem=False, to_split_text=False)\n",
    "model = build_model(X_train, y_train, MultinomialNB())\n",
    "X_test = X_test.apply(preprocess, stem=False, to_split_text=False)\n",
    "evaluate_model(model, X_test, y_test)"
   ]
  },
  {
   "cell_type": "markdown",
   "id": "687e539a",
   "metadata": {},
   "source": [
    "- Stemming = True, Split Text = False"
   ]
  },
  {
   "cell_type": "code",
   "execution_count": 118,
   "id": "10a18f43",
   "metadata": {},
   "outputs": [
    {
     "name": "stdout",
     "output_type": "stream",
     "text": [
      "Subset accuracy is 0.8683943089430894\n",
      "Cross validation scores [0.80524979 0.75613887 0.77900085 0.78323455 0.80932203]\n",
      "Mean Cross validation score 0.7865892162631496\n",
      "              precision    recall  f1-score   support\n",
      "\n",
      "    33041000       1.00      1.00      1.00       426\n",
      "    39269099       0.90      0.69      0.79       557\n",
      "    73181500       0.92      0.85      0.89       471\n",
      "    84713010       1.00      0.93      0.96       352\n",
      "    85177090       0.89      0.97      0.93       633\n",
      "    85238090       0.99      0.97      0.98       427\n",
      "    85364900       0.91      0.95      0.93       413\n",
      "    85366990       0.92      0.68      0.78       485\n",
      "    85369090       0.80      0.84      0.82       619\n",
      "    85389000       0.68      0.95      0.79       753\n",
      "    87082900       0.94      0.80      0.86       362\n",
      "    87089900       0.82      0.77      0.79       406\n",
      "\n",
      "    accuracy                           0.87      5904\n",
      "   macro avg       0.90      0.87      0.88      5904\n",
      "weighted avg       0.88      0.87      0.87      5904\n",
      "\n"
     ]
    }
   ],
   "source": [
    "'''\n",
    "Testing if Stemming improves the performance.\n",
    "'''\n",
    "\n",
    "X_train, X_test, y_train, y_test = train_test_split(train_features, train_target, random_state=10)\n",
    "X_train = X_train.apply(preprocess, stem=True, to_split_text=False)\n",
    "model = build_model(X_train, y_train, MultinomialNB())\n",
    "X_test = X_test.apply(preprocess, stem=True, to_split_text=False)\n",
    "evaluate_model(model, X_test, y_test)"
   ]
  },
  {
   "cell_type": "markdown",
   "id": "c9ce05d2",
   "metadata": {},
   "source": [
    "- Stemming = True, Split Text = True"
   ]
  },
  {
   "cell_type": "code",
   "execution_count": 119,
   "id": "3a97caf2",
   "metadata": {},
   "outputs": [
    {
     "name": "stdout",
     "output_type": "stream",
     "text": [
      "Subset accuracy is 0.8689024390243902\n",
      "Cross validation scores [0.80524979 0.75613887 0.77815411 0.78323455 0.81016949]\n",
      "Mean Cross validation score 0.7865893597784124\n",
      "              precision    recall  f1-score   support\n",
      "\n",
      "    33041000       1.00      1.00      1.00       426\n",
      "    39269099       0.90      0.70      0.79       557\n",
      "    73181500       0.92      0.85      0.89       471\n",
      "    84713010       1.00      0.93      0.96       352\n",
      "    85177090       0.89      0.97      0.93       633\n",
      "    85238090       0.99      0.97      0.98       427\n",
      "    85364900       0.91      0.95      0.93       413\n",
      "    85366990       0.92      0.68      0.78       485\n",
      "    85369090       0.80      0.84      0.82       619\n",
      "    85389000       0.68      0.95      0.79       753\n",
      "    87082900       0.94      0.80      0.86       362\n",
      "    87089900       0.82      0.77      0.79       406\n",
      "\n",
      "    accuracy                           0.87      5904\n",
      "   macro avg       0.90      0.87      0.88      5904\n",
      "weighted avg       0.88      0.87      0.87      5904\n",
      "\n"
     ]
    }
   ],
   "source": [
    "'''\n",
    "Stemming and splitting the joint words.\n",
    "'''\n",
    "\n",
    "X_train, X_test, y_train, y_test = train_test_split(train_features, train_target, random_state=10)\n",
    "X_train = X_train.apply(preprocess, stem=True, to_split_text=True)\n",
    "model = build_model(X_train, y_train, MultinomialNB())\n",
    "X_test = X_test.apply(preprocess, stem=True, to_split_text=True)\n",
    "evaluate_model(model, X_test, y_test)"
   ]
  },
  {
   "cell_type": "code",
   "execution_count": 121,
   "id": "9400f59b",
   "metadata": {},
   "outputs": [
    {
     "name": "stdout",
     "output_type": "stream",
     "text": [
      "Subset accuracy is 0.9009146341463414\n",
      "Cross validation scores [0.85605419 0.82387807 0.83573243 0.83996613 0.84576271]\n",
      "Mean Cross validation score 0.8402787066404512\n",
      "              precision    recall  f1-score   support\n",
      "\n",
      "    33041000       1.00      1.00      1.00       426\n",
      "    39269099       0.88      0.79      0.83       557\n",
      "    73181500       0.92      0.87      0.90       471\n",
      "    84713010       1.00      0.99      0.99       352\n",
      "    85177090       0.92      0.97      0.94       633\n",
      "    85238090       0.99      0.97      0.98       427\n",
      "    85364900       0.93      0.96      0.94       413\n",
      "    85366990       0.91      0.77      0.84       485\n",
      "    85369090       0.84      0.87      0.86       619\n",
      "    85389000       0.80      0.93      0.86       753\n",
      "    87082900       0.93      0.85      0.89       362\n",
      "    87089900       0.85      0.84      0.85       406\n",
      "\n",
      "    accuracy                           0.90      5904\n",
      "   macro avg       0.91      0.90      0.91      5904\n",
      "weighted avg       0.90      0.90      0.90      5904\n",
      "\n"
     ]
    }
   ],
   "source": [
    "'''\n",
    "Tuning the model by changing alpha which is the smoothing factor.\n",
    "\n",
    "'''\n",
    "X_train, X_test, y_train, y_test = train_test_split(train_features, train_target, random_state=10)\n",
    "X_train = X_train.apply(preprocess, stem=True, to_split_text=True)\n",
    "model = build_model(X_train, y_train, MultinomialNB(alpha=0.4))\n",
    "X_test = X_test.apply(preprocess, stem=True, to_split_text=True)\n",
    "evaluate_model(model, X_test, y_test)"
   ]
  },
  {
   "cell_type": "code",
   "execution_count": 122,
   "id": "2e571ae3",
   "metadata": {},
   "outputs": [
    {
     "name": "stdout",
     "output_type": "stream",
     "text": [
      "Subset accuracy is 0.9310636856368564\n",
      "Cross validation scores [0.88653683 0.86113463 0.87129551 0.84928027 0.88559322]\n",
      "Mean Cross validation score 0.8707680936867636\n",
      "              precision    recall  f1-score   support\n",
      "\n",
      "    33041000       1.00      1.00      1.00       426\n",
      "    39269099       0.85      0.87      0.86       557\n",
      "    73181500       0.87      0.94      0.90       471\n",
      "    84713010       0.99      0.98      0.98       352\n",
      "    85177090       0.97      0.96      0.97       633\n",
      "    85238090       1.00      0.98      0.99       427\n",
      "    85364900       0.97      0.99      0.98       413\n",
      "    85366990       0.90      0.88      0.89       485\n",
      "    85369090       0.92      0.88      0.90       619\n",
      "    85389000       0.92      0.93      0.92       753\n",
      "    87082900       0.91      0.92      0.92       362\n",
      "    87089900       0.91      0.88      0.90       406\n",
      "\n",
      "    accuracy                           0.93      5904\n",
      "   macro avg       0.93      0.93      0.93      5904\n",
      "weighted avg       0.93      0.93      0.93      5904\n",
      "\n"
     ]
    }
   ],
   "source": [
    "'''\n",
    "Changing the model and testing with RandomForest\n",
    "'''\n",
    "X_train, X_test, y_train, y_test = train_test_split(train_features, train_target, random_state=10)\n",
    "X_train = X_train.apply(preprocess, stem=True, to_split_text=True)\n",
    "model = build_model(X_train, y_train, RandomForestClassifier(n_estimators=100))\n",
    "X_test = X_test.apply(preprocess, stem=True, to_split_text=True)\n",
    "evaluate_model(model, X_test, y_test)"
   ]
  },
  {
   "cell_type": "markdown",
   "id": "34cf6827",
   "metadata": {},
   "source": [
    "- At this point, we can see that we are getting better performance with RandomForest without drop in cross validation score, which indicates that the model is not overfitting"
   ]
  },
  {
   "cell_type": "markdown",
   "id": "f2f1b5bc",
   "metadata": {},
   "source": [
    "## Hyperparameter tuning"
   ]
  },
  {
   "cell_type": "code",
   "execution_count": 144,
   "id": "4d44515d",
   "metadata": {},
   "outputs": [],
   "source": [
    "X_train, X_test, y_train, y_test = train_test_split(train_features, train_target, random_state=10)\n",
    "X_train = X_train.apply(preprocess, stem=True, to_split_text=True)"
   ]
  },
  {
   "cell_type": "code",
   "execution_count": 150,
   "id": "70391766",
   "metadata": {},
   "outputs": [],
   "source": [
    "from sklearn.pipeline import make_pipeline"
   ]
  },
  {
   "cell_type": "code",
   "execution_count": 163,
   "id": "4a2c4350",
   "metadata": {},
   "outputs": [],
   "source": [
    "n_est = [50,100,150,200,300,350,400]"
   ]
  },
  {
   "cell_type": "code",
   "execution_count": 164,
   "id": "fc1d0475",
   "metadata": {},
   "outputs": [
    {
     "data": {
      "text/plain": [
       "<AxesSubplot:xlabel='n_estimators'>"
      ]
     },
     "execution_count": 164,
     "metadata": {},
     "output_type": "execute_result"
    },
    {
     "data": {
      "image/png": "[encoded data removed]",
      "text/plain": [
       "<Figure size 432x288 with 1 Axes>"
      ]
     },
     "metadata": {
      "needs_background": "light"
     },
     "output_type": "display_data"
    }
   ],
   "source": [
    "pipe = make_pipeline(TfidfVectorizer(ngram_range=(1,2), min_df=2, max_df=0.5, norm='l1'),\n",
    "                     RandomForestClassifier())\n",
    "gsc = GridSearchCV(\n",
    "    estimator=pipe,\n",
    "    param_grid={\n",
    "        'randomforestclassifier__n_estimators':n_est\n",
    "    },\n",
    "    scoring='accuracy',\n",
    "    cv=3\n",
    ")\n",
    "grid_result = gsc.fit(X_train, y_train)\n",
    "\n",
    "d = pd.DataFrame({'score':grid_result.cv_results_['mean_test_score'],\n",
    "                  'n_estimators':n_est\n",
    "                 })\n",
    "d.plot(x='n_estimators')"
   ]
  },
  {
   "cell_type": "code",
   "execution_count": 168,
   "id": "69a5ddc3",
   "metadata": {},
   "outputs": [],
   "source": [
    "max_depths = [5,10,15,30,50,100,150,200]"
   ]
  },
  {
   "cell_type": "code",
   "execution_count": 169,
   "id": "63016d5c",
   "metadata": {},
   "outputs": [
    {
     "name": "stdout",
     "output_type": "stream",
     "text": [
      "Fitting 3 folds for each of 8 candidates, totalling 24 fits\n",
      "[CV 1/3] END randomforestclassifier__max_depth=5;, score=0.572 total time=   1.7s\n",
      "[CV 2/3] END randomforestclassifier__max_depth=5;, score=0.608 total time=   1.7s\n",
      "[CV 3/3] END randomforestclassifier__max_depth=5;, score=0.579 total time=   1.7s\n",
      "[CV 1/3] END randomforestclassifier__max_depth=10;, score=0.678 total time=   2.0s\n",
      "[CV 2/3] END randomforestclassifier__max_depth=10;, score=0.681 total time=   2.0s\n",
      "[CV 3/3] END randomforestclassifier__max_depth=10;, score=0.683 total time=   2.0s\n",
      "[CV 1/3] END randomforestclassifier__max_depth=15;, score=0.731 total time=   2.8s\n",
      "[CV 2/3] END randomforestclassifier__max_depth=15;, score=0.725 total time=   2.4s\n",
      "[CV 3/3] END randomforestclassifier__max_depth=15;, score=0.726 total time=   2.5s\n",
      "[CV 1/3] END randomforestclassifier__max_depth=30;, score=0.798 total time=   5.2s\n",
      "[CV 2/3] END randomforestclassifier__max_depth=30;, score=0.787 total time=   4.6s\n",
      "[CV 3/3] END randomforestclassifier__max_depth=30;, score=0.788 total time=   4.7s\n",
      "[CV 1/3] END randomforestclassifier__max_depth=50;, score=0.845 total time=   7.9s\n",
      "[CV 2/3] END randomforestclassifier__max_depth=50;, score=0.835 total time=   8.0s\n",
      "[CV 3/3] END randomforestclassifier__max_depth=50;, score=0.843 total time=   7.9s\n",
      "[CV 1/3] END randomforestclassifier__max_depth=100;, score=0.888 total time=  14.4s\n",
      "[CV 2/3] END randomforestclassifier__max_depth=100;, score=0.888 total time=  14.9s\n",
      "[CV 3/3] END randomforestclassifier__max_depth=100;, score=0.892 total time=  14.9s\n",
      "[CV 1/3] END randomforestclassifier__max_depth=150;, score=0.902 total time=  18.5s\n",
      "[CV 2/3] END randomforestclassifier__max_depth=150;, score=0.902 total time=  18.5s\n",
      "[CV 3/3] END randomforestclassifier__max_depth=150;, score=0.905 total time=  18.3s\n",
      "[CV 1/3] END randomforestclassifier__max_depth=200;, score=0.907 total time=  20.3s\n",
      "[CV 2/3] END randomforestclassifier__max_depth=200;, score=0.902 total time=  21.0s\n",
      "[CV 3/3] END randomforestclassifier__max_depth=200;, score=0.909 total time=  20.9s\n"
     ]
    },
    {
     "data": {
      "text/plain": [
       "<AxesSubplot:xlabel='max_depth'>"
      ]
     },
     "execution_count": 169,
     "metadata": {},
     "output_type": "execute_result"
    },
    {
     "data": {
      "image/png": "[encoded data removed]",
      "text/plain": [
       "<Figure size 432x288 with 1 Axes>"
      ]
     },
     "metadata": {
      "needs_background": "light"
     },
     "output_type": "display_data"
    }
   ],
   "source": [
    "pipe = make_pipeline(TfidfVectorizer(ngram_range=(1,2), min_df=2, max_df=0.5, norm='l1'),\n",
    "                     RandomForestClassifier(n_estimators=300))\n",
    "gsc = GridSearchCV(\n",
    "    estimator=pipe,\n",
    "    param_grid={\n",
    "        'randomforestclassifier__max_depth':max_depths\n",
    "    },\n",
    "    scoring='accuracy',\n",
    "    cv=3,\n",
    "    verbose=6\n",
    ")\n",
    "grid_result = gsc.fit(X_train, y_train)\n",
    "\n",
    "d = pd.DataFrame({'score':grid_result.cv_results_['mean_test_score'],\n",
    "                  'max_depth':max_depths\n",
    "                 })\n",
    "d.plot(x='max_depth')"
   ]
  },
  {
   "cell_type": "code",
   "execution_count": 170,
   "id": "c9e92024",
   "metadata": {},
   "outputs": [],
   "source": [
    "min_sample_splits = [2,5,8,10]"
   ]
  },
  {
   "cell_type": "code",
   "execution_count": 171,
   "id": "ecf50364",
   "metadata": {},
   "outputs": [
    {
     "name": "stdout",
     "output_type": "stream",
     "text": [
      "Fitting 3 folds for each of 4 candidates, totalling 12 fits\n",
      "[CV 1/3] END randomforestclassifier__min_samples_split=2;, score=0.904 total time=  18.6s\n",
      "[CV 2/3] END randomforestclassifier__min_samples_split=2;, score=0.900 total time=  18.4s\n",
      "[CV 3/3] END randomforestclassifier__min_samples_split=2;, score=0.906 total time=  18.6s\n",
      "[CV 1/3] END randomforestclassifier__min_samples_split=5;, score=0.903 total time=  14.6s\n",
      "[CV 2/3] END randomforestclassifier__min_samples_split=5;, score=0.900 total time=  14.7s\n",
      "[CV 3/3] END randomforestclassifier__min_samples_split=5;, score=0.906 total time=  14.6s\n",
      "[CV 1/3] END randomforestclassifier__min_samples_split=8;, score=0.903 total time=  12.1s\n",
      "[CV 2/3] END randomforestclassifier__min_samples_split=8;, score=0.900 total time=  11.9s\n",
      "[CV 3/3] END randomforestclassifier__min_samples_split=8;, score=0.902 total time=  12.2s\n",
      "[CV 1/3] END randomforestclassifier__min_samples_split=10;, score=0.899 total time=  11.8s\n",
      "[CV 2/3] END randomforestclassifier__min_samples_split=10;, score=0.899 total time=  12.0s\n",
      "[CV 3/3] END randomforestclassifier__min_samples_split=10;, score=0.900 total time=  11.5s\n"
     ]
    },
    {
     "data": {
      "text/plain": [
       "<AxesSubplot:xlabel='min_samples_split'>"
      ]
     },
     "execution_count": 171,
     "metadata": {},
     "output_type": "execute_result"
    },
    {
     "data": {
      "image/png": "[encoded data removed]",
      "text/plain": [
       "<Figure size 432x288 with 1 Axes>"
      ]
     },
     "metadata": {
      "needs_background": "light"
     },
     "output_type": "display_data"
    }
   ],
   "source": [
    "pipe = make_pipeline(TfidfVectorizer(ngram_range=(1,2), min_df=2, max_df=0.5, norm='l1'),\n",
    "                     RandomForestClassifier(n_estimators=300, max_depth=150))\n",
    "gsc = GridSearchCV(\n",
    "    estimator=pipe,\n",
    "    param_grid={\n",
    "        'randomforestclassifier__min_samples_split':min_sample_splits\n",
    "    },\n",
    "    scoring='accuracy',\n",
    "    cv=3,\n",
    "    verbose=6\n",
    ")\n",
    "grid_result = gsc.fit(X_train, y_train)\n",
    "\n",
    "d = pd.DataFrame({'score':grid_result.cv_results_['mean_test_score'],\n",
    "                  'min_samples_split':min_sample_splits\n",
    "                 })\n",
    "d.plot(x='min_samples_split')"
   ]
  },
  {
   "cell_type": "code",
   "execution_count": 184,
   "id": "a1f35bca",
   "metadata": {},
   "outputs": [
    {
     "name": "stdout",
     "output_type": "stream",
     "text": [
      "Subset accuracy is 0.915819783197832\n",
      "Cross validation scores [0.88060965 0.85859441 0.85605419 0.84081287 0.87711864]\n",
      "Mean Cross validation score 0.8626379540464129\n",
      "              precision    recall  f1-score   support\n",
      "\n",
      "    33041000       1.00      1.00      1.00       426\n",
      "    39269099       0.68      0.90      0.78       557\n",
      "    73181500       0.94      0.88      0.91       471\n",
      "    84713010       0.99      0.97      0.98       352\n",
      "    85177090       0.97      0.95      0.96       633\n",
      "    85238090       1.00      0.97      0.99       427\n",
      "    85364900       0.98      0.98      0.98       413\n",
      "    85366990       0.91      0.85      0.88       485\n",
      "    85369090       0.92      0.87      0.89       619\n",
      "    85389000       0.91      0.91      0.91       753\n",
      "    87082900       0.94      0.88      0.91       362\n",
      "    87089900       0.92      0.85      0.89       406\n",
      "\n",
      "    accuracy                           0.92      5904\n",
      "   macro avg       0.93      0.92      0.92      5904\n",
      "weighted avg       0.92      0.92      0.92      5904\n",
      "\n"
     ]
    }
   ],
   "source": [
    "X_train, X_test, y_train, y_test = train_test_split(train_features, train_target, random_state=10)\n",
    "X_train = X_train.apply(preprocess, stem=True, to_split_text=True)\n",
    "model = build_model(X_train, y_train, RandomForestClassifier(n_estimators=300,max_depth=150))\n",
    "X_test = X_test.apply(preprocess, stem=True, to_split_text=True)\n",
    "evaluate_model(model, X_test, y_test)"
   ]
  },
  {
   "cell_type": "markdown",
   "id": "bede3cf6",
   "metadata": {},
   "source": [
    "## Prediction on test data"
   ]
  },
  {
   "cell_type": "code",
   "execution_count": 190,
   "id": "a8bf22dc",
   "metadata": {},
   "outputs": [],
   "source": [
    "test_data = fetch_test_data()"
   ]
  },
  {
   "cell_type": "code",
   "execution_count": 191,
   "id": "a16628ee",
   "metadata": {},
   "outputs": [],
   "source": [
    "test_data_processed = test_data.text.apply(preprocess, stem=True, to_split_text=True)"
   ]
  },
  {
   "cell_type": "code",
   "execution_count": 192,
   "id": "453e985c",
   "metadata": {},
   "outputs": [],
   "source": [
    "test_data['prediction'] = model.predict(test_data_processed)"
   ]
  },
  {
   "cell_type": "code",
   "execution_count": 194,
   "id": "83553841",
   "metadata": {},
   "outputs": [],
   "source": [
    "test_data.to_csv('test_data_with_preds.csv')"
   ]
  },
  {
   "cell_type": "code",
   "execution_count": null,
   "id": "20f0fcd6",
   "metadata": {},
   "outputs": [],
   "source": []
  }
 ],
 "metadata": {
  "kernelspec": {
   "display_name": "Python 3 (ipykernel)",
   "language": "python",
   "name": "python3"
  },
  "language_info": {
   "codemirror_mode": {
    "name": "ipython",
    "version": 3
   },
   "file_extension": ".py",
   "mimetype": "text/x-python",
   "name": "python",
   "nbconvert_exporter": "python",
   "pygments_lexer": "ipython3",
   "version": "3.8.7"
  }
 },
 "nbformat": 4,
 "nbformat_minor": 5
}
